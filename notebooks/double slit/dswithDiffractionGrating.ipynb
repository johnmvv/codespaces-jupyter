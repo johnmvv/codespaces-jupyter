{
 "cells": [
  {
   "cell_type": "code",
   "execution_count": 1,
   "metadata": {},
   "outputs": [
    {
     "name": "stdout",
     "output_type": "stream",
     "text": [
      "[6.27847197e-07 6.24309482e-07 6.25637280e-07 6.49733762e-07\n",
      " 6.32255469e-07 6.96509347e-07 6.96509347e-07]\n",
      "6.504002689709085e-07\n"
     ]
    }
   ],
   "source": [
    "#double slit experement\n",
    "import numpy as np\n",
    "import matplotlib.pyplot as plt\n",
    "import scipy.stats as stats\n",
    "distances = np.array([0.600, 0.500, 0.400, 0.300, 0.200, 0.100, 0.050]) #m\n",
    "measured = np.array([0.244, 0.202, 0.162, 0.127, 0.082, 0.046, 0.023]) #m+/-0.001m\n",
    "n = [1,1,1,1,1,1,1]\n",
    "\n",
    "angle = np.arctan(measured/distances)\n",
    "sinAngle = np.sin(angle)\n",
    "\n",
    "#wavelength = sinAngle * (10^-3)/600\n",
    "wavelength = sinAngle * (10**-3)/600 #m\n",
    "print(wavelength)\n",
    "\n",
    "\n",
    "print(np.mean(wavelength))\n",
    "\n"
   ]
  },
  {
   "cell_type": "code",
   "execution_count": 2,
   "metadata": {},
   "outputs": [
    {
     "name": "stdout",
     "output_type": "stream",
     "text": [
      "[6.27847197e-07 6.24309482e-07 6.25637280e-07 6.49733762e-07\n",
      " 6.32255469e-07 6.96509347e-07 6.96509347e-07]\n"
     ]
    }
   ],
   "source": [
    "import numpy as np\n",
    "\n",
    "# measured distance and distance between slits\n",
    "distances = np.array([0.600, 0.500, 0.400, 0.300, 0.200, 0.100, 0.050]) #m\n",
    "measured = np.array([0.244, 0.202, 0.162, 0.127, 0.082, 0.046, 0.023]) #m+/-0.001m\n",
    "\n",
    "# calculate angle of diffraction\n",
    "angle = np.arctan(measured / distances)\n",
    "\n",
    "# calculate wavelength\n",
    "wavelength = np.sin(angle) * (10**-3) / 600 #m\n",
    "\n",
    "print(wavelength)\n"
   ]
  }
 ],
 "metadata": {
  "kernelspec": {
   "display_name": "Python 3",
   "language": "python",
   "name": "python3"
  },
  "language_info": {
   "codemirror_mode": {
    "name": "ipython",
    "version": 3
   },
   "file_extension": ".py",
   "mimetype": "text/x-python",
   "name": "python",
   "nbconvert_exporter": "python",
   "pygments_lexer": "ipython3",
   "version": "3.10.8"
  }
 },
 "nbformat": 4,
 "nbformat_minor": 2
}
