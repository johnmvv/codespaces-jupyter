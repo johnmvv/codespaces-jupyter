{
 "cells": [
  {
   "cell_type": "markdown",
   "metadata": {},
   "source": [
    "# measuring specific heat capacity\n",
    "\n",
    "SHC can be calculated with the formula:\n",
    "\n",
    "$Energy = mass \\times SHC \\times change in temperature$\n",
    "\n",
    "\n",
    "$E = MC \\Delta \\theta$\n",
    "\n",
    "Energy can be calculated as\n",
    "\n",
    "$E = VIT$\n",
    "\n",
    "These can be rearranged to get\n",
    "\n",
    "$C = \\frac{VIT}{M\\Delta\\theta}$\n",
    "\n",
    "\n",
    "By measuring the current and pd with a voltmeter and ammeter, and timing a set time with a stopwatch, alongside readings from a thermometer, we can use the values, alongside the formula above, to find SHC for various metals.\n",
    "\n",
    "We can expect the results to be higher than the true value, due to ineffitiencies, heat lost to the surroundings, and uneven heating.\n",
    "\n",
    "We used the apperatus in the diagram below in addition to a stopwatch.\n",
    "\n",
    "![image.png](image_2023-12-13_142142483.png)\n",
    "\n",
    "\n",
    "we got the following results\n",
    "\n",
    "|Metals  | Currents (A) | Voltages (V) | Times (S) | Starting Temps ($\\degree$ C) | Final Temps ($\\degree$ C) |\n",
    "|--------|----------|----------|-------|----------------|-------------|\n",
    "|Brass   | 4.52     | 12.88    | 240   | 20.5           | 50.5        |\n",
    "|Steel   | 4.77     | 13.13    | 240   | 20.5           | 48.0        |\n"
   ]
  },
  {
   "cell_type": "code",
   "execution_count": 3,
   "metadata": {},
   "outputs": [
    {
     "name": "stdout",
     "output_type": "stream",
     "text": [
      "[465.7408     546.58996364]\n"
     ]
    }
   ],
   "source": [
    "import numpy as np\n",
    "\n",
    "currents = np.array([4.52, 4.77])\n",
    "voltages = np.array([12.88, 13.13])\n",
    "times = np.array([240, 240])\n",
    "startingtemps = np.array([20.5, 20.5])\n",
    "finaltemps = np.array([50.5, 48.0])\n",
    "\n",
    "#as mass = 1\n",
    "heatcap = (currents * voltages * times) / (finaltemps - startingtemps)\n",
    "\n",
    "print(heatcap)\n"
   ]
  }
 ],
 "metadata": {
  "kernelspec": {
   "display_name": "Python 3",
   "language": "python",
   "name": "python3"
  },
  "language_info": {
   "codemirror_mode": {
    "name": "ipython",
    "version": 3
   },
   "file_extension": ".py",
   "mimetype": "text/x-python",
   "name": "python",
   "nbconvert_exporter": "python",
   "pygments_lexer": "ipython3",
   "version": "3.10.8"
  }
 },
 "nbformat": 4,
 "nbformat_minor": 2
}
