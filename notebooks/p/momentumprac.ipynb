{
 "cells": [
  {
   "cell_type": "code",
   "execution_count": null,
   "metadata": {},
   "outputs": [],
   "source": [
    "Am = 0.345\n",
    "Bm = 0.545\n",
    "Ai = [0,0.91,0.53,0.44]\n",
    "Bi = [0,0.57,0.54,0]\n",
    "Af = [0,0,1.3,1.25]\n",
    "Bf = [0,0,1.3,1.25]"
   ]
  }
 ],
 "metadata": {
  "language_info": {
   "name": "python"
  }
 },
 "nbformat": 4,
 "nbformat_minor": 2
}
